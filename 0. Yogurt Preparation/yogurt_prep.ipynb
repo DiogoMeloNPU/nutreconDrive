{
 "cells": [
  {
   "cell_type": "code",
   "execution_count": 18,
   "metadata": {},
   "outputs": [
    {
     "name": "stdout",
     "output_type": "stream",
     "text": [
      "Running Code locally\n"
     ]
    }
   ],
   "source": [
    "try:\n",
    "  from google.colab import drive\n",
    "  drive.mount('/content/drive/')\n",
    "  shared_drive_foldername = 'NUTRECON'\n",
    "  root = '/content/drive/Shareddrives/{}/'.format(shared_drive_foldername)\n",
    "  %pip install pandas==1.4.2\n",
    "  print('Running Code in Colab')\n",
    "except:\n",
    "  root = 'D:/FV/Projects/NUTRECON/nutreconDrive/'\n",
    "  print('Running Code locally')\n",
    "\n",
    "import sys\n",
    "sys.path.append(root + '1. Acquisition/notebooks')\n",
    "\n",
    "from nutrecon import *\n",
    "\n",
    "perQtofYogurt = 10  #mL\n",
    "\n",
    "_v_ = Vars()\n",
    "\n",
    "yogurtPrep_path = _v_.yogurtPrep_path\n",
    "flavorCodes = _v_.flavorCodes\n",
    "flavorName_colName = _v_.flavorName_colName\n",
    "flavorID_colName = _v_.flavorID_colName\n",
    "\n",
    "import pandas as pd\n",
    "\n",
    "flavor_color_df = pd.read_excel(yogurtPrep_path, sheet_name= 'Flavoring per 10 mL')\n",
    "solute_recipe = pd.read_excel(yogurtPrep_path, sheet_name= 'solutes', index_col = 'type').to_dict('index')"
   ]
  },
  {
   "attachments": {},
   "cell_type": "markdown",
   "metadata": {},
   "source": [
    "# Day 1\n"
   ]
  },
  {
   "cell_type": "code",
   "execution_count": null,
   "metadata": {},
   "outputs": [
    {
     "name": "stdout",
     "output_type": "stream",
     "text": [
      "For 150mL per Flavor (total of1200 mL of yogurt):\n",
      "   - cashew (C):\n",
      "\t- 0.45mL of cashew flavor concentrate\n",
      "\t- 0.45mL of Yellow coloring\n",
      "   - lychee (D):\n",
      "\t- 0.9mL of lychee flavor concentrate\n",
      "\t- 0.3mL of Blue coloring\n",
      "\t- 0.9mL of Yellow coloring\n",
      "   - pomegranate (E):\n",
      "\t- 0.9mL of pomegranate flavor concentrate\n",
      "\t- 0.45mL of Red coloring\n",
      "\t- 0.15mL of Blue coloring\n",
      "\t- 0.15mL of Yellow coloring\n",
      "   - blueberry (G):\n",
      "\t- 0.9mL of blueberry flavor concentrate\n",
      "\t- 0.45mL of Red coloring\n",
      "\t- 0.3mL of Blue coloring\n",
      "   - dragon fruit (H):\n",
      "\t- 0.45mL of dragon fruit flavor concentrate\n",
      "\t- 0.15mL of Red coloring\n",
      "   - ginseng (I):\n",
      "\t- 0.9mL of ginseng flavor concentrate\n",
      "   - grapefruit (J):\n",
      "\t- 0.45mL of grapefruit flavor concentrate\n",
      "\t- 0.3mL of Red coloring\n",
      "\t- 0.9mL of Yellow coloring\n",
      "   - licorice (K):\n",
      "\t- 0.45mL of licorice flavor concentrate\n",
      "\t- 0.15mL of Blue coloring\n"
     ]
    }
   ],
   "source": [
    "yogurt_per_flavor = 150     # mL - change here\n",
    "\n",
    "print('For {}mL per Flavor (total of{} mL of yogurt):'.format(yogurt_per_flavor,yogurt_per_flavor*8))\n",
    "\n",
    "\n",
    "for flavor in flavor_color_df[flavorName_colName].unique():\n",
    "    tmp_df = flavor_color_df[flavor_color_df[flavorName_colName] == flavor].dropna(axis = 1)\n",
    "    flavor_id = tmp_df[flavorID_colName].values[0]\n",
    "    coloring = ''\n",
    "    concentrate_qt = ((tmp_df['concentrate'].values[0] * yogurt_per_flavor) / perQtofYogurt)/ 1000\n",
    "    for color in ['Red', 'Blue', 'Yellow']:\n",
    "        if color in tmp_df.columns:\n",
    "            color_qt = ((tmp_df[color].values[0] * yogurt_per_flavor) / perQtofYogurt) / 1000\n",
    "            coloring += '\\n\\t- {}mL of {} coloring'.format(color_qt, color)\n",
    "    print('\\n   - {} ({}):\\n\\t- {}mL of {} flavor concentrate{}'.format(flavor, flavor_id, concentrate_qt, flavor, coloring))\n",
    "\n"
   ]
  },
  {
   "attachments": {},
   "cell_type": "markdown",
   "metadata": {},
   "source": [
    "# CMC Prep"
   ]
  },
  {
   "cell_type": "code",
   "execution_count": null,
   "metadata": {},
   "outputs": [
    {
     "name": "stdout",
     "output_type": "stream",
     "text": [
      "\n",
      "For 850mL of CMC solution (good for 2550ml of yogurt):\n",
      "  1. Weigh 10.2g of CMC;\n",
      "  2. Weigh 0.255g of sucralose;\n",
      "  3. Mix with 850.0mL of water.\n",
      "==============================================\n",
      "\n"
     ]
    }
   ],
   "source": [
    "Total_CMC = 850\n",
    "\n",
    "Total_yogurt = Total_CMC * 3    # mL\n",
    "\n",
    "cmc_g = (solute_recipe['CMC']['solute (g)'] * Total_CMC)/solute_recipe['CMC']['total (mL)']\n",
    "sucralose_g = (solute_recipe['CMC']['sucralose (g)'] * Total_CMC)/solute_recipe['CMC']['total (mL)']\n",
    "water_mL = (solute_recipe['CMC']['H20 (mL)'] * Total_CMC)/solute_recipe['CMC']['total (mL)']\n",
    "\n",
    "print(\n",
    "'''\n",
    "For {}mL of CMC solution (good for {}ml of yogurt):\n",
    "  1. Weigh {}g of CMC;\n",
    "  2. Weigh {}g of sucralose;\n",
    "  3. Mix with {}mL of water.\n",
    "==============================================\n",
    "'''.format(Total_CMC, Total_yogurt, cmc_g, sucralose_g, water_mL))\n",
    "\n"
   ]
  },
  {
   "attachments": {},
   "cell_type": "markdown",
   "metadata": {},
   "source": [
    "# MD prep"
   ]
  },
  {
   "cell_type": "code",
   "execution_count": null,
   "metadata": {},
   "outputs": [
    {
     "name": "stdout",
     "output_type": "stream",
     "text": [
      "\n",
      "For 850mL of CMC solution (good for 2550ml of yogurt):\n",
      "  1. Weigh 144.5g of Maltodextrine;\n",
      "  2. Weigh 0.255g of sucralose;\n",
      "  3. Mix with 386.3636363636364mL of water.\n",
      "==============================================\n",
      "\n"
     ]
    }
   ],
   "source": [
    "Total_MD = 850\n",
    "\n",
    "Total_yogurt = Total_MD * 3    # mL\n",
    "\n",
    "md_g = (solute_recipe['Maltodextrine']['solute (g)'] * Total_MD)/solute_recipe['Maltodextrine']['total (mL)']\n",
    "sucralose_g = (solute_recipe['Maltodextrine']['sucralose (g)'] * Total_MD)/solute_recipe['Maltodextrine']['total (mL)']\n",
    "water_mL = (solute_recipe['Maltodextrine']['H20 (mL)'] * Total_MD)/solute_recipe['Maltodextrine']['total (mL)']\n",
    "\n",
    "print(\n",
    "'''\n",
    "For {}mL of CMC solution (good for {}ml of yogurt):\n",
    "  1. Weigh {}g of Maltodextrine;\n",
    "  2. Weigh {}g of sucralose;\n",
    "  3. Mix with {}mL of water.\n",
    "==============================================\n",
    "'''.format(Total_MD, Total_yogurt, md_g, sucralose_g, water_mL))\n"
   ]
  },
  {
   "attachments": {},
   "cell_type": "markdown",
   "metadata": {},
   "source": [
    "# Flavor prep"
   ]
  },
  {
   "cell_type": "code",
   "execution_count": 24,
   "metadata": {},
   "outputs": [
    {
     "name": "stdout",
     "output_type": "stream",
     "text": [
      "For 400mL of grapefruit (J) flavored yogurt:\n",
      "  - 1.2mL of grapefruit flavor concentrate\n",
      "  - 0.8mL of Red coloring\n",
      "  - 2.4mL of Yellow coloring\n"
     ]
    }
   ],
   "source": [
    "quantity = 400\n",
    "Flavor_code = 'J'\n",
    "\n",
    "flavor_color_df_ = flavor_color_df.copy()\n",
    "flavor_color_df_[flavorID_colName] = flavor_color_df_[flavorID_colName].str.lower()\n",
    "tmp_df = flavor_color_df_[flavor_color_df_[flavorID_colName] ==  Flavor_code.lower()].dropna(axis=1)\n",
    "flavor = tmp_df[flavorName_colName].values[0]\n",
    "flavor_id = tmp_df[flavorID_colName].values[0]\n",
    "coloring = ''\n",
    "concentrate_qt = ((tmp_df['concentrate'].values[0] * quantity) / perQtofYogurt)/ 1000\n",
    "for color in ['Red', 'Blue', 'Yellow']:\n",
    "    if color in tmp_df.columns:\n",
    "        color_qt = ((tmp_df[color].values[0] * quantity) / perQtofYogurt) / 1000\n",
    "        coloring += '\\n  - {}mL of {} coloring'.format(color_qt, color)\n",
    "\n",
    "print('For {}mL of {} ({}) flavored yogurt:'.format(quantity, flavor, Flavor_code))\n",
    "print('  - {}mL of {} flavor concentrate{}'.format( concentrate_qt, flavor, coloring))"
   ]
  },
  {
   "cell_type": "code",
   "execution_count": null,
   "metadata": {},
   "outputs": [],
   "source": []
  }
 ],
 "metadata": {
  "kernelspec": {
   "display_name": "nutrecon",
   "language": "python",
   "name": "python3"
  },
  "language_info": {
   "codemirror_mode": {
    "name": "ipython",
    "version": 3
   },
   "file_extension": ".py",
   "mimetype": "text/x-python",
   "name": "python",
   "nbconvert_exporter": "python",
   "pygments_lexer": "ipython3",
   "version": "3.10.4"
  },
  "orig_nbformat": 4,
  "vscode": {
   "interpreter": {
    "hash": "99c044adf5d85823ea13a3699c57e50207e5550fd1923a22377409542dd1d37b"
   }
  }
 },
 "nbformat": 4,
 "nbformat_minor": 2
}
